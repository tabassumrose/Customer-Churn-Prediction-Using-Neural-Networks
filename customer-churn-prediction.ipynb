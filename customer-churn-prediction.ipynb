{
 "cells": [
  {
   "cell_type": "code",
   "execution_count": 1,
   "id": "b1b6ee88",
   "metadata": {
    "execution": {
     "iopub.execute_input": "2025-04-20T12:22:58.017259Z",
     "iopub.status.busy": "2025-04-20T12:22:58.016953Z",
     "iopub.status.idle": "2025-04-20T12:23:18.168022Z",
     "shell.execute_reply": "2025-04-20T12:23:18.167102Z"
    },
    "papermill": {
     "duration": 20.160536,
     "end_time": "2025-04-20T12:23:18.169956",
     "exception": false,
     "start_time": "2025-04-20T12:22:58.009420",
     "status": "completed"
    },
    "tags": []
   },
   "outputs": [
    {
     "name": "stderr",
     "output_type": "stream",
     "text": [
      "2025-04-20 12:23:04.123114: E external/local_xla/xla/stream_executor/cuda/cuda_fft.cc:477] Unable to register cuFFT factory: Attempting to register factory for plugin cuFFT when one has already been registered\n",
      "WARNING: All log messages before absl::InitializeLog() is called are written to STDERR\n",
      "E0000 00:00:1745151784.369514      13 cuda_dnn.cc:8310] Unable to register cuDNN factory: Attempting to register factory for plugin cuDNN when one has already been registered\n",
      "E0000 00:00:1745151784.439726      13 cuda_blas.cc:1418] Unable to register cuBLAS factory: Attempting to register factory for plugin cuBLAS when one has already been registered\n"
     ]
    }
   ],
   "source": [
    "import numpy as np\n",
    "import pandas as pd\n",
    "import os\n",
    "import matplotlib.pyplot as plt\n",
    "import seaborn as sns\n",
    "from sklearn.preprocessing import StandardScaler\n",
    "from sklearn.model_selection import train_test_split\n",
    "from keras.models import Sequential\n",
    "from keras.layers import Dense"
   ]
  },
  {
   "cell_type": "code",
   "execution_count": 2,
   "id": "b0da32b6",
   "metadata": {
    "execution": {
     "iopub.execute_input": "2025-04-20T12:23:18.183227Z",
     "iopub.status.busy": "2025-04-20T12:23:18.182608Z",
     "iopub.status.idle": "2025-04-20T12:23:18.243603Z",
     "shell.execute_reply": "2025-04-20T12:23:18.242627Z"
    },
    "papermill": {
     "duration": 0.069271,
     "end_time": "2025-04-20T12:23:18.245339",
     "exception": false,
     "start_time": "2025-04-20T12:23:18.176068",
     "status": "completed"
    },
    "tags": []
   },
   "outputs": [],
   "source": [
    "churn_data = pd.read_csv('/kaggle/input/churn-dataset/Churn.csv',index_col='RowNumber')"
   ]
  },
  {
   "cell_type": "code",
   "execution_count": 3,
   "id": "1c8db826",
   "metadata": {
    "execution": {
     "iopub.execute_input": "2025-04-20T12:23:18.259318Z",
     "iopub.status.busy": "2025-04-20T12:23:18.258940Z",
     "iopub.status.idle": "2025-04-20T12:23:18.284727Z",
     "shell.execute_reply": "2025-04-20T12:23:18.283637Z"
    },
    "papermill": {
     "duration": 0.033973,
     "end_time": "2025-04-20T12:23:18.286437",
     "exception": false,
     "start_time": "2025-04-20T12:23:18.252464",
     "status": "completed"
    },
    "tags": []
   },
   "outputs": [
    {
     "data": {
      "text/html": [
       "<div>\n",
       "<style scoped>\n",
       "    .dataframe tbody tr th:only-of-type {\n",
       "        vertical-align: middle;\n",
       "    }\n",
       "\n",
       "    .dataframe tbody tr th {\n",
       "        vertical-align: top;\n",
       "    }\n",
       "\n",
       "    .dataframe thead th {\n",
       "        text-align: right;\n",
       "    }\n",
       "</style>\n",
       "<table border=\"1\" class=\"dataframe\">\n",
       "  <thead>\n",
       "    <tr style=\"text-align: right;\">\n",
       "      <th></th>\n",
       "      <th>CustomerId</th>\n",
       "      <th>Surname</th>\n",
       "      <th>CreditScore</th>\n",
       "      <th>Geography</th>\n",
       "      <th>Gender</th>\n",
       "      <th>Age</th>\n",
       "      <th>Tenure</th>\n",
       "      <th>Balance</th>\n",
       "      <th>NumOfProducts</th>\n",
       "      <th>HasCrCard</th>\n",
       "      <th>IsActiveMember</th>\n",
       "      <th>EstimatedSalary</th>\n",
       "      <th>Exited</th>\n",
       "    </tr>\n",
       "    <tr>\n",
       "      <th>RowNumber</th>\n",
       "      <th></th>\n",
       "      <th></th>\n",
       "      <th></th>\n",
       "      <th></th>\n",
       "      <th></th>\n",
       "      <th></th>\n",
       "      <th></th>\n",
       "      <th></th>\n",
       "      <th></th>\n",
       "      <th></th>\n",
       "      <th></th>\n",
       "      <th></th>\n",
       "      <th></th>\n",
       "    </tr>\n",
       "  </thead>\n",
       "  <tbody>\n",
       "    <tr>\n",
       "      <th>1</th>\n",
       "      <td>15634602</td>\n",
       "      <td>Hargrave</td>\n",
       "      <td>619</td>\n",
       "      <td>France</td>\n",
       "      <td>Female</td>\n",
       "      <td>42</td>\n",
       "      <td>2</td>\n",
       "      <td>0.00</td>\n",
       "      <td>1</td>\n",
       "      <td>1</td>\n",
       "      <td>1</td>\n",
       "      <td>101348.88</td>\n",
       "      <td>1</td>\n",
       "    </tr>\n",
       "    <tr>\n",
       "      <th>2</th>\n",
       "      <td>15647311</td>\n",
       "      <td>Hill</td>\n",
       "      <td>608</td>\n",
       "      <td>Spain</td>\n",
       "      <td>Female</td>\n",
       "      <td>41</td>\n",
       "      <td>1</td>\n",
       "      <td>83807.86</td>\n",
       "      <td>1</td>\n",
       "      <td>0</td>\n",
       "      <td>1</td>\n",
       "      <td>112542.58</td>\n",
       "      <td>0</td>\n",
       "    </tr>\n",
       "    <tr>\n",
       "      <th>3</th>\n",
       "      <td>15619304</td>\n",
       "      <td>Onio</td>\n",
       "      <td>502</td>\n",
       "      <td>France</td>\n",
       "      <td>Female</td>\n",
       "      <td>42</td>\n",
       "      <td>8</td>\n",
       "      <td>159660.80</td>\n",
       "      <td>3</td>\n",
       "      <td>1</td>\n",
       "      <td>0</td>\n",
       "      <td>113931.57</td>\n",
       "      <td>1</td>\n",
       "    </tr>\n",
       "    <tr>\n",
       "      <th>4</th>\n",
       "      <td>15701354</td>\n",
       "      <td>Boni</td>\n",
       "      <td>699</td>\n",
       "      <td>France</td>\n",
       "      <td>Female</td>\n",
       "      <td>39</td>\n",
       "      <td>1</td>\n",
       "      <td>0.00</td>\n",
       "      <td>2</td>\n",
       "      <td>0</td>\n",
       "      <td>0</td>\n",
       "      <td>93826.63</td>\n",
       "      <td>0</td>\n",
       "    </tr>\n",
       "    <tr>\n",
       "      <th>5</th>\n",
       "      <td>15737888</td>\n",
       "      <td>Mitchell</td>\n",
       "      <td>850</td>\n",
       "      <td>Spain</td>\n",
       "      <td>Female</td>\n",
       "      <td>43</td>\n",
       "      <td>2</td>\n",
       "      <td>125510.82</td>\n",
       "      <td>1</td>\n",
       "      <td>1</td>\n",
       "      <td>1</td>\n",
       "      <td>79084.10</td>\n",
       "      <td>0</td>\n",
       "    </tr>\n",
       "  </tbody>\n",
       "</table>\n",
       "</div>"
      ],
      "text/plain": [
       "           CustomerId   Surname  CreditScore Geography  Gender  Age  Tenure  \\\n",
       "RowNumber                                                                     \n",
       "1            15634602  Hargrave          619    France  Female   42       2   \n",
       "2            15647311      Hill          608     Spain  Female   41       1   \n",
       "3            15619304      Onio          502    France  Female   42       8   \n",
       "4            15701354      Boni          699    France  Female   39       1   \n",
       "5            15737888  Mitchell          850     Spain  Female   43       2   \n",
       "\n",
       "             Balance  NumOfProducts  HasCrCard  IsActiveMember  \\\n",
       "RowNumber                                                        \n",
       "1               0.00              1          1               1   \n",
       "2           83807.86              1          0               1   \n",
       "3          159660.80              3          1               0   \n",
       "4               0.00              2          0               0   \n",
       "5          125510.82              1          1               1   \n",
       "\n",
       "           EstimatedSalary  Exited  \n",
       "RowNumber                           \n",
       "1                101348.88       1  \n",
       "2                112542.58       0  \n",
       "3                113931.57       1  \n",
       "4                 93826.63       0  \n",
       "5                 79084.10       0  "
      ]
     },
     "execution_count": 3,
     "metadata": {},
     "output_type": "execute_result"
    }
   ],
   "source": [
    "churn_data.head()"
   ]
  },
  {
   "cell_type": "code",
   "execution_count": 4,
   "id": "43b72d76",
   "metadata": {
    "execution": {
     "iopub.execute_input": "2025-04-20T12:23:18.300021Z",
     "iopub.status.busy": "2025-04-20T12:23:18.299360Z",
     "iopub.status.idle": "2025-04-20T12:23:18.320420Z",
     "shell.execute_reply": "2025-04-20T12:23:18.319345Z"
    },
    "papermill": {
     "duration": 0.029471,
     "end_time": "2025-04-20T12:23:18.322120",
     "exception": false,
     "start_time": "2025-04-20T12:23:18.292649",
     "status": "completed"
    },
    "tags": []
   },
   "outputs": [
    {
     "name": "stdout",
     "output_type": "stream",
     "text": [
      "<class 'pandas.core.frame.DataFrame'>\n",
      "Index: 10000 entries, 1 to 10000\n",
      "Data columns (total 13 columns):\n",
      " #   Column           Non-Null Count  Dtype  \n",
      "---  ------           --------------  -----  \n",
      " 0   CustomerId       10000 non-null  int64  \n",
      " 1   Surname          10000 non-null  object \n",
      " 2   CreditScore      10000 non-null  int64  \n",
      " 3   Geography        10000 non-null  object \n",
      " 4   Gender           10000 non-null  object \n",
      " 5   Age              10000 non-null  int64  \n",
      " 6   Tenure           10000 non-null  int64  \n",
      " 7   Balance          10000 non-null  float64\n",
      " 8   NumOfProducts    10000 non-null  int64  \n",
      " 9   HasCrCard        10000 non-null  int64  \n",
      " 10  IsActiveMember   10000 non-null  int64  \n",
      " 11  EstimatedSalary  10000 non-null  float64\n",
      " 12  Exited           10000 non-null  int64  \n",
      "dtypes: float64(2), int64(8), object(3)\n",
      "memory usage: 1.1+ MB\n"
     ]
    }
   ],
   "source": [
    "churn_data.info()"
   ]
  },
  {
   "cell_type": "code",
   "execution_count": 5,
   "id": "e7db2a2c",
   "metadata": {
    "execution": {
     "iopub.execute_input": "2025-04-20T12:23:18.335742Z",
     "iopub.status.busy": "2025-04-20T12:23:18.335424Z",
     "iopub.status.idle": "2025-04-20T12:23:18.370353Z",
     "shell.execute_reply": "2025-04-20T12:23:18.369451Z"
    },
    "papermill": {
     "duration": 0.043329,
     "end_time": "2025-04-20T12:23:18.372026",
     "exception": false,
     "start_time": "2025-04-20T12:23:18.328697",
     "status": "completed"
    },
    "tags": []
   },
   "outputs": [
    {
     "data": {
      "text/html": [
       "<div>\n",
       "<style scoped>\n",
       "    .dataframe tbody tr th:only-of-type {\n",
       "        vertical-align: middle;\n",
       "    }\n",
       "\n",
       "    .dataframe tbody tr th {\n",
       "        vertical-align: top;\n",
       "    }\n",
       "\n",
       "    .dataframe thead th {\n",
       "        text-align: right;\n",
       "    }\n",
       "</style>\n",
       "<table border=\"1\" class=\"dataframe\">\n",
       "  <thead>\n",
       "    <tr style=\"text-align: right;\">\n",
       "      <th></th>\n",
       "      <th>CustomerId</th>\n",
       "      <th>CreditScore</th>\n",
       "      <th>Age</th>\n",
       "      <th>Tenure</th>\n",
       "      <th>Balance</th>\n",
       "      <th>NumOfProducts</th>\n",
       "      <th>HasCrCard</th>\n",
       "      <th>IsActiveMember</th>\n",
       "      <th>EstimatedSalary</th>\n",
       "      <th>Exited</th>\n",
       "    </tr>\n",
       "  </thead>\n",
       "  <tbody>\n",
       "    <tr>\n",
       "      <th>count</th>\n",
       "      <td>1.000000e+04</td>\n",
       "      <td>10000.000000</td>\n",
       "      <td>10000.000000</td>\n",
       "      <td>10000.000000</td>\n",
       "      <td>10000.000000</td>\n",
       "      <td>10000.000000</td>\n",
       "      <td>10000.00000</td>\n",
       "      <td>10000.000000</td>\n",
       "      <td>10000.000000</td>\n",
       "      <td>10000.000000</td>\n",
       "    </tr>\n",
       "    <tr>\n",
       "      <th>mean</th>\n",
       "      <td>1.569094e+07</td>\n",
       "      <td>650.528800</td>\n",
       "      <td>38.921800</td>\n",
       "      <td>5.012800</td>\n",
       "      <td>76485.889288</td>\n",
       "      <td>1.530200</td>\n",
       "      <td>0.70550</td>\n",
       "      <td>0.515100</td>\n",
       "      <td>100090.239881</td>\n",
       "      <td>0.203700</td>\n",
       "    </tr>\n",
       "    <tr>\n",
       "      <th>std</th>\n",
       "      <td>7.193619e+04</td>\n",
       "      <td>96.653299</td>\n",
       "      <td>10.487806</td>\n",
       "      <td>2.892174</td>\n",
       "      <td>62397.405202</td>\n",
       "      <td>0.581654</td>\n",
       "      <td>0.45584</td>\n",
       "      <td>0.499797</td>\n",
       "      <td>57510.492818</td>\n",
       "      <td>0.402769</td>\n",
       "    </tr>\n",
       "    <tr>\n",
       "      <th>min</th>\n",
       "      <td>1.556570e+07</td>\n",
       "      <td>350.000000</td>\n",
       "      <td>18.000000</td>\n",
       "      <td>0.000000</td>\n",
       "      <td>0.000000</td>\n",
       "      <td>1.000000</td>\n",
       "      <td>0.00000</td>\n",
       "      <td>0.000000</td>\n",
       "      <td>11.580000</td>\n",
       "      <td>0.000000</td>\n",
       "    </tr>\n",
       "    <tr>\n",
       "      <th>25%</th>\n",
       "      <td>1.562853e+07</td>\n",
       "      <td>584.000000</td>\n",
       "      <td>32.000000</td>\n",
       "      <td>3.000000</td>\n",
       "      <td>0.000000</td>\n",
       "      <td>1.000000</td>\n",
       "      <td>0.00000</td>\n",
       "      <td>0.000000</td>\n",
       "      <td>51002.110000</td>\n",
       "      <td>0.000000</td>\n",
       "    </tr>\n",
       "    <tr>\n",
       "      <th>50%</th>\n",
       "      <td>1.569074e+07</td>\n",
       "      <td>652.000000</td>\n",
       "      <td>37.000000</td>\n",
       "      <td>5.000000</td>\n",
       "      <td>97198.540000</td>\n",
       "      <td>1.000000</td>\n",
       "      <td>1.00000</td>\n",
       "      <td>1.000000</td>\n",
       "      <td>100193.915000</td>\n",
       "      <td>0.000000</td>\n",
       "    </tr>\n",
       "    <tr>\n",
       "      <th>75%</th>\n",
       "      <td>1.575323e+07</td>\n",
       "      <td>718.000000</td>\n",
       "      <td>44.000000</td>\n",
       "      <td>7.000000</td>\n",
       "      <td>127644.240000</td>\n",
       "      <td>2.000000</td>\n",
       "      <td>1.00000</td>\n",
       "      <td>1.000000</td>\n",
       "      <td>149388.247500</td>\n",
       "      <td>0.000000</td>\n",
       "    </tr>\n",
       "    <tr>\n",
       "      <th>max</th>\n",
       "      <td>1.581569e+07</td>\n",
       "      <td>850.000000</td>\n",
       "      <td>92.000000</td>\n",
       "      <td>10.000000</td>\n",
       "      <td>250898.090000</td>\n",
       "      <td>4.000000</td>\n",
       "      <td>1.00000</td>\n",
       "      <td>1.000000</td>\n",
       "      <td>199992.480000</td>\n",
       "      <td>1.000000</td>\n",
       "    </tr>\n",
       "  </tbody>\n",
       "</table>\n",
       "</div>"
      ],
      "text/plain": [
       "         CustomerId   CreditScore           Age        Tenure        Balance  \\\n",
       "count  1.000000e+04  10000.000000  10000.000000  10000.000000   10000.000000   \n",
       "mean   1.569094e+07    650.528800     38.921800      5.012800   76485.889288   \n",
       "std    7.193619e+04     96.653299     10.487806      2.892174   62397.405202   \n",
       "min    1.556570e+07    350.000000     18.000000      0.000000       0.000000   \n",
       "25%    1.562853e+07    584.000000     32.000000      3.000000       0.000000   \n",
       "50%    1.569074e+07    652.000000     37.000000      5.000000   97198.540000   \n",
       "75%    1.575323e+07    718.000000     44.000000      7.000000  127644.240000   \n",
       "max    1.581569e+07    850.000000     92.000000     10.000000  250898.090000   \n",
       "\n",
       "       NumOfProducts    HasCrCard  IsActiveMember  EstimatedSalary  \\\n",
       "count   10000.000000  10000.00000    10000.000000     10000.000000   \n",
       "mean        1.530200      0.70550        0.515100    100090.239881   \n",
       "std         0.581654      0.45584        0.499797     57510.492818   \n",
       "min         1.000000      0.00000        0.000000        11.580000   \n",
       "25%         1.000000      0.00000        0.000000     51002.110000   \n",
       "50%         1.000000      1.00000        1.000000    100193.915000   \n",
       "75%         2.000000      1.00000        1.000000    149388.247500   \n",
       "max         4.000000      1.00000        1.000000    199992.480000   \n",
       "\n",
       "             Exited  \n",
       "count  10000.000000  \n",
       "mean       0.203700  \n",
       "std        0.402769  \n",
       "min        0.000000  \n",
       "25%        0.000000  \n",
       "50%        0.000000  \n",
       "75%        0.000000  \n",
       "max        1.000000  "
      ]
     },
     "execution_count": 5,
     "metadata": {},
     "output_type": "execute_result"
    }
   ],
   "source": [
    "churn_data.describe()"
   ]
  },
  {
   "cell_type": "code",
   "execution_count": 6,
   "id": "d5013956",
   "metadata": {
    "execution": {
     "iopub.execute_input": "2025-04-20T12:23:18.385531Z",
     "iopub.status.busy": "2025-04-20T12:23:18.385217Z",
     "iopub.status.idle": "2025-04-20T12:23:18.393567Z",
     "shell.execute_reply": "2025-04-20T12:23:18.392822Z"
    },
    "papermill": {
     "duration": 0.017024,
     "end_time": "2025-04-20T12:23:18.395224",
     "exception": false,
     "start_time": "2025-04-20T12:23:18.378200",
     "status": "completed"
    },
    "tags": []
   },
   "outputs": [],
   "source": [
    "#removing the unproductive columns\n",
    "churn_data.drop(['CustomerId','Surname'],axis=1,inplace=True)"
   ]
  },
  {
   "cell_type": "code",
   "execution_count": 7,
   "id": "bd0bd21e",
   "metadata": {
    "execution": {
     "iopub.execute_input": "2025-04-20T12:23:18.409332Z",
     "iopub.status.busy": "2025-04-20T12:23:18.408919Z",
     "iopub.status.idle": "2025-04-20T12:23:18.421110Z",
     "shell.execute_reply": "2025-04-20T12:23:18.420156Z"
    },
    "papermill": {
     "duration": 0.021015,
     "end_time": "2025-04-20T12:23:18.422551",
     "exception": false,
     "start_time": "2025-04-20T12:23:18.401536",
     "status": "completed"
    },
    "tags": []
   },
   "outputs": [
    {
     "data": {
      "text/html": [
       "<div>\n",
       "<style scoped>\n",
       "    .dataframe tbody tr th:only-of-type {\n",
       "        vertical-align: middle;\n",
       "    }\n",
       "\n",
       "    .dataframe tbody tr th {\n",
       "        vertical-align: top;\n",
       "    }\n",
       "\n",
       "    .dataframe thead th {\n",
       "        text-align: right;\n",
       "    }\n",
       "</style>\n",
       "<table border=\"1\" class=\"dataframe\">\n",
       "  <thead>\n",
       "    <tr style=\"text-align: right;\">\n",
       "      <th></th>\n",
       "      <th>CreditScore</th>\n",
       "      <th>Geography</th>\n",
       "      <th>Gender</th>\n",
       "      <th>Age</th>\n",
       "      <th>Tenure</th>\n",
       "      <th>Balance</th>\n",
       "      <th>NumOfProducts</th>\n",
       "      <th>HasCrCard</th>\n",
       "      <th>IsActiveMember</th>\n",
       "      <th>EstimatedSalary</th>\n",
       "      <th>Exited</th>\n",
       "    </tr>\n",
       "    <tr>\n",
       "      <th>RowNumber</th>\n",
       "      <th></th>\n",
       "      <th></th>\n",
       "      <th></th>\n",
       "      <th></th>\n",
       "      <th></th>\n",
       "      <th></th>\n",
       "      <th></th>\n",
       "      <th></th>\n",
       "      <th></th>\n",
       "      <th></th>\n",
       "      <th></th>\n",
       "    </tr>\n",
       "  </thead>\n",
       "  <tbody>\n",
       "    <tr>\n",
       "      <th>1</th>\n",
       "      <td>619</td>\n",
       "      <td>France</td>\n",
       "      <td>Female</td>\n",
       "      <td>42</td>\n",
       "      <td>2</td>\n",
       "      <td>0.00</td>\n",
       "      <td>1</td>\n",
       "      <td>1</td>\n",
       "      <td>1</td>\n",
       "      <td>101348.88</td>\n",
       "      <td>1</td>\n",
       "    </tr>\n",
       "    <tr>\n",
       "      <th>2</th>\n",
       "      <td>608</td>\n",
       "      <td>Spain</td>\n",
       "      <td>Female</td>\n",
       "      <td>41</td>\n",
       "      <td>1</td>\n",
       "      <td>83807.86</td>\n",
       "      <td>1</td>\n",
       "      <td>0</td>\n",
       "      <td>1</td>\n",
       "      <td>112542.58</td>\n",
       "      <td>0</td>\n",
       "    </tr>\n",
       "    <tr>\n",
       "      <th>3</th>\n",
       "      <td>502</td>\n",
       "      <td>France</td>\n",
       "      <td>Female</td>\n",
       "      <td>42</td>\n",
       "      <td>8</td>\n",
       "      <td>159660.80</td>\n",
       "      <td>3</td>\n",
       "      <td>1</td>\n",
       "      <td>0</td>\n",
       "      <td>113931.57</td>\n",
       "      <td>1</td>\n",
       "    </tr>\n",
       "    <tr>\n",
       "      <th>4</th>\n",
       "      <td>699</td>\n",
       "      <td>France</td>\n",
       "      <td>Female</td>\n",
       "      <td>39</td>\n",
       "      <td>1</td>\n",
       "      <td>0.00</td>\n",
       "      <td>2</td>\n",
       "      <td>0</td>\n",
       "      <td>0</td>\n",
       "      <td>93826.63</td>\n",
       "      <td>0</td>\n",
       "    </tr>\n",
       "    <tr>\n",
       "      <th>5</th>\n",
       "      <td>850</td>\n",
       "      <td>Spain</td>\n",
       "      <td>Female</td>\n",
       "      <td>43</td>\n",
       "      <td>2</td>\n",
       "      <td>125510.82</td>\n",
       "      <td>1</td>\n",
       "      <td>1</td>\n",
       "      <td>1</td>\n",
       "      <td>79084.10</td>\n",
       "      <td>0</td>\n",
       "    </tr>\n",
       "  </tbody>\n",
       "</table>\n",
       "</div>"
      ],
      "text/plain": [
       "           CreditScore Geography  Gender  Age  Tenure    Balance  \\\n",
       "RowNumber                                                          \n",
       "1                  619    France  Female   42       2       0.00   \n",
       "2                  608     Spain  Female   41       1   83807.86   \n",
       "3                  502    France  Female   42       8  159660.80   \n",
       "4                  699    France  Female   39       1       0.00   \n",
       "5                  850     Spain  Female   43       2  125510.82   \n",
       "\n",
       "           NumOfProducts  HasCrCard  IsActiveMember  EstimatedSalary  Exited  \n",
       "RowNumber                                                                     \n",
       "1                      1          1               1        101348.88       1  \n",
       "2                      1          0               1        112542.58       0  \n",
       "3                      3          1               0        113931.57       1  \n",
       "4                      2          0               0         93826.63       0  \n",
       "5                      1          1               1         79084.10       0  "
      ]
     },
     "execution_count": 7,
     "metadata": {},
     "output_type": "execute_result"
    }
   ],
   "source": [
    "churn_data.head()"
   ]
  },
  {
   "cell_type": "code",
   "execution_count": 8,
   "id": "fc383cfb",
   "metadata": {
    "execution": {
     "iopub.execute_input": "2025-04-20T12:23:18.437023Z",
     "iopub.status.busy": "2025-04-20T12:23:18.436683Z",
     "iopub.status.idle": "2025-04-20T12:23:18.444527Z",
     "shell.execute_reply": "2025-04-20T12:23:18.443530Z"
    },
    "papermill": {
     "duration": 0.016814,
     "end_time": "2025-04-20T12:23:18.445986",
     "exception": false,
     "start_time": "2025-04-20T12:23:18.429172",
     "status": "completed"
    },
    "tags": []
   },
   "outputs": [
    {
     "data": {
      "text/plain": [
       "Geography\n",
       "France     5014\n",
       "Germany    2509\n",
       "Spain      2477\n",
       "Name: count, dtype: int64"
      ]
     },
     "execution_count": 8,
     "metadata": {},
     "output_type": "execute_result"
    }
   ],
   "source": [
    "#ENCODING\n",
    "churn_data['Geography'].value_counts()"
   ]
  },
  {
   "cell_type": "code",
   "execution_count": 9,
   "id": "6e50539a",
   "metadata": {
    "execution": {
     "iopub.execute_input": "2025-04-20T12:23:18.459866Z",
     "iopub.status.busy": "2025-04-20T12:23:18.459553Z",
     "iopub.status.idle": "2025-04-20T12:23:18.467383Z",
     "shell.execute_reply": "2025-04-20T12:23:18.466569Z"
    },
    "papermill": {
     "duration": 0.016305,
     "end_time": "2025-04-20T12:23:18.468663",
     "exception": false,
     "start_time": "2025-04-20T12:23:18.452358",
     "status": "completed"
    },
    "tags": []
   },
   "outputs": [],
   "source": [
    "churn_data['Geography']= churn_data['Geography'].map({'France':0,'Germany':1,'Spain':2})\n",
    "churn_data['Gender'] = churn_data['Gender'].map({'Female':0,'Male':1})"
   ]
  },
  {
   "cell_type": "code",
   "execution_count": 10,
   "id": "24f21042",
   "metadata": {
    "execution": {
     "iopub.execute_input": "2025-04-20T12:23:18.484956Z",
     "iopub.status.busy": "2025-04-20T12:23:18.484124Z",
     "iopub.status.idle": "2025-04-20T12:23:18.497382Z",
     "shell.execute_reply": "2025-04-20T12:23:18.496482Z"
    },
    "papermill": {
     "duration": 0.023618,
     "end_time": "2025-04-20T12:23:18.498710",
     "exception": false,
     "start_time": "2025-04-20T12:23:18.475092",
     "status": "completed"
    },
    "tags": []
   },
   "outputs": [
    {
     "data": {
      "text/html": [
       "<div>\n",
       "<style scoped>\n",
       "    .dataframe tbody tr th:only-of-type {\n",
       "        vertical-align: middle;\n",
       "    }\n",
       "\n",
       "    .dataframe tbody tr th {\n",
       "        vertical-align: top;\n",
       "    }\n",
       "\n",
       "    .dataframe thead th {\n",
       "        text-align: right;\n",
       "    }\n",
       "</style>\n",
       "<table border=\"1\" class=\"dataframe\">\n",
       "  <thead>\n",
       "    <tr style=\"text-align: right;\">\n",
       "      <th></th>\n",
       "      <th>CreditScore</th>\n",
       "      <th>Geography</th>\n",
       "      <th>Gender</th>\n",
       "      <th>Age</th>\n",
       "      <th>Tenure</th>\n",
       "      <th>Balance</th>\n",
       "      <th>NumOfProducts</th>\n",
       "      <th>HasCrCard</th>\n",
       "      <th>IsActiveMember</th>\n",
       "      <th>EstimatedSalary</th>\n",
       "      <th>Exited</th>\n",
       "    </tr>\n",
       "    <tr>\n",
       "      <th>RowNumber</th>\n",
       "      <th></th>\n",
       "      <th></th>\n",
       "      <th></th>\n",
       "      <th></th>\n",
       "      <th></th>\n",
       "      <th></th>\n",
       "      <th></th>\n",
       "      <th></th>\n",
       "      <th></th>\n",
       "      <th></th>\n",
       "      <th></th>\n",
       "    </tr>\n",
       "  </thead>\n",
       "  <tbody>\n",
       "    <tr>\n",
       "      <th>1</th>\n",
       "      <td>619</td>\n",
       "      <td>0</td>\n",
       "      <td>0</td>\n",
       "      <td>42</td>\n",
       "      <td>2</td>\n",
       "      <td>0.00</td>\n",
       "      <td>1</td>\n",
       "      <td>1</td>\n",
       "      <td>1</td>\n",
       "      <td>101348.88</td>\n",
       "      <td>1</td>\n",
       "    </tr>\n",
       "    <tr>\n",
       "      <th>2</th>\n",
       "      <td>608</td>\n",
       "      <td>2</td>\n",
       "      <td>0</td>\n",
       "      <td>41</td>\n",
       "      <td>1</td>\n",
       "      <td>83807.86</td>\n",
       "      <td>1</td>\n",
       "      <td>0</td>\n",
       "      <td>1</td>\n",
       "      <td>112542.58</td>\n",
       "      <td>0</td>\n",
       "    </tr>\n",
       "    <tr>\n",
       "      <th>3</th>\n",
       "      <td>502</td>\n",
       "      <td>0</td>\n",
       "      <td>0</td>\n",
       "      <td>42</td>\n",
       "      <td>8</td>\n",
       "      <td>159660.80</td>\n",
       "      <td>3</td>\n",
       "      <td>1</td>\n",
       "      <td>0</td>\n",
       "      <td>113931.57</td>\n",
       "      <td>1</td>\n",
       "    </tr>\n",
       "    <tr>\n",
       "      <th>4</th>\n",
       "      <td>699</td>\n",
       "      <td>0</td>\n",
       "      <td>0</td>\n",
       "      <td>39</td>\n",
       "      <td>1</td>\n",
       "      <td>0.00</td>\n",
       "      <td>2</td>\n",
       "      <td>0</td>\n",
       "      <td>0</td>\n",
       "      <td>93826.63</td>\n",
       "      <td>0</td>\n",
       "    </tr>\n",
       "    <tr>\n",
       "      <th>5</th>\n",
       "      <td>850</td>\n",
       "      <td>2</td>\n",
       "      <td>0</td>\n",
       "      <td>43</td>\n",
       "      <td>2</td>\n",
       "      <td>125510.82</td>\n",
       "      <td>1</td>\n",
       "      <td>1</td>\n",
       "      <td>1</td>\n",
       "      <td>79084.10</td>\n",
       "      <td>0</td>\n",
       "    </tr>\n",
       "    <tr>\n",
       "      <th>...</th>\n",
       "      <td>...</td>\n",
       "      <td>...</td>\n",
       "      <td>...</td>\n",
       "      <td>...</td>\n",
       "      <td>...</td>\n",
       "      <td>...</td>\n",
       "      <td>...</td>\n",
       "      <td>...</td>\n",
       "      <td>...</td>\n",
       "      <td>...</td>\n",
       "      <td>...</td>\n",
       "    </tr>\n",
       "    <tr>\n",
       "      <th>9996</th>\n",
       "      <td>771</td>\n",
       "      <td>0</td>\n",
       "      <td>1</td>\n",
       "      <td>39</td>\n",
       "      <td>5</td>\n",
       "      <td>0.00</td>\n",
       "      <td>2</td>\n",
       "      <td>1</td>\n",
       "      <td>0</td>\n",
       "      <td>96270.64</td>\n",
       "      <td>0</td>\n",
       "    </tr>\n",
       "    <tr>\n",
       "      <th>9997</th>\n",
       "      <td>516</td>\n",
       "      <td>0</td>\n",
       "      <td>1</td>\n",
       "      <td>35</td>\n",
       "      <td>10</td>\n",
       "      <td>57369.61</td>\n",
       "      <td>1</td>\n",
       "      <td>1</td>\n",
       "      <td>1</td>\n",
       "      <td>101699.77</td>\n",
       "      <td>0</td>\n",
       "    </tr>\n",
       "    <tr>\n",
       "      <th>9998</th>\n",
       "      <td>709</td>\n",
       "      <td>0</td>\n",
       "      <td>0</td>\n",
       "      <td>36</td>\n",
       "      <td>7</td>\n",
       "      <td>0.00</td>\n",
       "      <td>1</td>\n",
       "      <td>0</td>\n",
       "      <td>1</td>\n",
       "      <td>42085.58</td>\n",
       "      <td>1</td>\n",
       "    </tr>\n",
       "    <tr>\n",
       "      <th>9999</th>\n",
       "      <td>772</td>\n",
       "      <td>1</td>\n",
       "      <td>1</td>\n",
       "      <td>42</td>\n",
       "      <td>3</td>\n",
       "      <td>75075.31</td>\n",
       "      <td>2</td>\n",
       "      <td>1</td>\n",
       "      <td>0</td>\n",
       "      <td>92888.52</td>\n",
       "      <td>1</td>\n",
       "    </tr>\n",
       "    <tr>\n",
       "      <th>10000</th>\n",
       "      <td>792</td>\n",
       "      <td>0</td>\n",
       "      <td>0</td>\n",
       "      <td>28</td>\n",
       "      <td>4</td>\n",
       "      <td>130142.79</td>\n",
       "      <td>1</td>\n",
       "      <td>1</td>\n",
       "      <td>0</td>\n",
       "      <td>38190.78</td>\n",
       "      <td>0</td>\n",
       "    </tr>\n",
       "  </tbody>\n",
       "</table>\n",
       "<p>10000 rows × 11 columns</p>\n",
       "</div>"
      ],
      "text/plain": [
       "           CreditScore  Geography  Gender  Age  Tenure    Balance  \\\n",
       "RowNumber                                                           \n",
       "1                  619          0       0   42       2       0.00   \n",
       "2                  608          2       0   41       1   83807.86   \n",
       "3                  502          0       0   42       8  159660.80   \n",
       "4                  699          0       0   39       1       0.00   \n",
       "5                  850          2       0   43       2  125510.82   \n",
       "...                ...        ...     ...  ...     ...        ...   \n",
       "9996               771          0       1   39       5       0.00   \n",
       "9997               516          0       1   35      10   57369.61   \n",
       "9998               709          0       0   36       7       0.00   \n",
       "9999               772          1       1   42       3   75075.31   \n",
       "10000              792          0       0   28       4  130142.79   \n",
       "\n",
       "           NumOfProducts  HasCrCard  IsActiveMember  EstimatedSalary  Exited  \n",
       "RowNumber                                                                     \n",
       "1                      1          1               1        101348.88       1  \n",
       "2                      1          0               1        112542.58       0  \n",
       "3                      3          1               0        113931.57       1  \n",
       "4                      2          0               0         93826.63       0  \n",
       "5                      1          1               1         79084.10       0  \n",
       "...                  ...        ...             ...              ...     ...  \n",
       "9996                   2          1               0         96270.64       0  \n",
       "9997                   1          1               1        101699.77       0  \n",
       "9998                   1          0               1         42085.58       1  \n",
       "9999                   2          1               0         92888.52       1  \n",
       "10000                  1          1               0         38190.78       0  \n",
       "\n",
       "[10000 rows x 11 columns]"
      ]
     },
     "execution_count": 10,
     "metadata": {},
     "output_type": "execute_result"
    }
   ],
   "source": [
    "churn_data_encoded = churn_data\n",
    "churn_data_encoded"
   ]
  },
  {
   "cell_type": "code",
   "execution_count": 11,
   "id": "92d61c29",
   "metadata": {
    "execution": {
     "iopub.execute_input": "2025-04-20T12:23:18.513629Z",
     "iopub.status.busy": "2025-04-20T12:23:18.512833Z",
     "iopub.status.idle": "2025-04-20T12:23:18.709934Z",
     "shell.execute_reply": "2025-04-20T12:23:18.708965Z"
    },
    "papermill": {
     "duration": 0.205908,
     "end_time": "2025-04-20T12:23:18.711470",
     "exception": false,
     "start_time": "2025-04-20T12:23:18.505562",
     "status": "completed"
    },
    "tags": []
   },
   "outputs": [
    {
     "data": {
      "image/png": "[encoded data removed]",
      "text/plain": [
       "<Figure size 640x480 with 1 Axes>"
      ]
     },
     "metadata": {},
     "output_type": "display_data"
    }
   ],
   "source": [
    "#Exploratory data analysis\n",
    "sns.countplot(x=churn_data_encoded['Exited'])\n",
    "plt.xlabel('Count of Exited')\n",
    "plt.ylabel('Count')\n",
    "plt.show()"
   ]
  },
  {
   "cell_type": "code",
   "execution_count": 12,
   "id": "20b84eb1",
   "metadata": {
    "execution": {
     "iopub.execute_input": "2025-04-20T12:23:18.726946Z",
     "iopub.status.busy": "2025-04-20T12:23:18.726584Z",
     "iopub.status.idle": "2025-04-20T12:23:20.623510Z",
     "shell.execute_reply": "2025-04-20T12:23:20.622332Z"
    },
    "papermill": {
     "duration": 1.907717,
     "end_time": "2025-04-20T12:23:20.626382",
     "exception": false,
     "start_time": "2025-04-20T12:23:18.718665",
     "status": "completed"
    },
    "tags": []
   },
   "outputs": [
    {
     "data": {
      "image/png": "[encoded data removed]",
      "text/plain": [
       "<Figure size 1500x1200 with 12 Axes>"
      ]
     },
     "metadata": {},
     "output_type": "display_data"
    }
   ],
   "source": [
    "# distribution of all features\n",
    "churn_data_encoded.hist(figsize=(15,12), bins=15)\n",
    "plt.title(\"Features Distribution\")\n",
    "plt.show()"
   ]
  },
  {
   "cell_type": "code",
   "execution_count": 13,
   "id": "70622ec3",
   "metadata": {
    "execution": {
     "iopub.execute_input": "2025-04-20T12:23:20.652706Z",
     "iopub.status.busy": "2025-04-20T12:23:20.652424Z",
     "iopub.status.idle": "2025-04-20T12:23:21.362276Z",
     "shell.execute_reply": "2025-04-20T12:23:21.361357Z"
    },
    "papermill": {
     "duration": 0.726398,
     "end_time": "2025-04-20T12:23:21.365975",
     "exception": false,
     "start_time": "2025-04-20T12:23:20.639577",
     "status": "completed"
    },
    "tags": []
   },
   "outputs": [
    {
     "name": "stderr",
     "output_type": "stream",
     "text": [
      "/usr/local/lib/python3.11/dist-packages/matplotlib/colors.py:721: RuntimeWarning: invalid value encountered in less\n",
      "  xa[xa < 0] = -1\n"
     ]
    },
    {
     "data": {
      "text/plain": [
       "<Axes: >"
      ]
     },
     "execution_count": 13,
     "metadata": {},
     "output_type": "execute_result"
    },
    {
     "data": {
      "image/png": "[encoded data removed]",
      "text/plain": [
       "<Figure size 1500x1500 with 2 Axes>"
      ]
     },
     "metadata": {},
     "output_type": "display_data"
    }
   ],
   "source": [
    "plt.figure(figsize=(15,15))\n",
    "sns.heatmap(churn_data_encoded.corr(), annot=True, cmap=\"RdYlGn\", center=0)"
   ]
  },
  {
   "cell_type": "code",
   "execution_count": 14,
   "id": "9619932f",
   "metadata": {
    "execution": {
     "iopub.execute_input": "2025-04-20T12:23:21.398208Z",
     "iopub.status.busy": "2025-04-20T12:23:21.397880Z",
     "iopub.status.idle": "2025-04-20T12:23:21.412461Z",
     "shell.execute_reply": "2025-04-20T12:23:21.411615Z"
    },
    "papermill": {
     "duration": 0.030338,
     "end_time": "2025-04-20T12:23:21.414083",
     "exception": false,
     "start_time": "2025-04-20T12:23:21.383745",
     "status": "completed"
    },
    "tags": []
   },
   "outputs": [
    {
     "data": {
      "text/html": [
       "<div>\n",
       "<style scoped>\n",
       "    .dataframe tbody tr th:only-of-type {\n",
       "        vertical-align: middle;\n",
       "    }\n",
       "\n",
       "    .dataframe tbody tr th {\n",
       "        vertical-align: top;\n",
       "    }\n",
       "\n",
       "    .dataframe thead th {\n",
       "        text-align: right;\n",
       "    }\n",
       "</style>\n",
       "<table border=\"1\" class=\"dataframe\">\n",
       "  <thead>\n",
       "    <tr style=\"text-align: right;\">\n",
       "      <th></th>\n",
       "      <th>CreditScore</th>\n",
       "      <th>Geography</th>\n",
       "      <th>Gender</th>\n",
       "      <th>Age</th>\n",
       "      <th>Tenure</th>\n",
       "      <th>Balance</th>\n",
       "      <th>NumOfProducts</th>\n",
       "      <th>HasCrCard</th>\n",
       "      <th>IsActiveMember</th>\n",
       "      <th>EstimatedSalary</th>\n",
       "    </tr>\n",
       "    <tr>\n",
       "      <th>RowNumber</th>\n",
       "      <th></th>\n",
       "      <th></th>\n",
       "      <th></th>\n",
       "      <th></th>\n",
       "      <th></th>\n",
       "      <th></th>\n",
       "      <th></th>\n",
       "      <th></th>\n",
       "      <th></th>\n",
       "      <th></th>\n",
       "    </tr>\n",
       "  </thead>\n",
       "  <tbody>\n",
       "    <tr>\n",
       "      <th>1</th>\n",
       "      <td>619</td>\n",
       "      <td>0</td>\n",
       "      <td>0</td>\n",
       "      <td>42</td>\n",
       "      <td>2</td>\n",
       "      <td>0.00</td>\n",
       "      <td>1</td>\n",
       "      <td>1</td>\n",
       "      <td>1</td>\n",
       "      <td>101348.88</td>\n",
       "    </tr>\n",
       "    <tr>\n",
       "      <th>2</th>\n",
       "      <td>608</td>\n",
       "      <td>2</td>\n",
       "      <td>0</td>\n",
       "      <td>41</td>\n",
       "      <td>1</td>\n",
       "      <td>83807.86</td>\n",
       "      <td>1</td>\n",
       "      <td>0</td>\n",
       "      <td>1</td>\n",
       "      <td>112542.58</td>\n",
       "    </tr>\n",
       "    <tr>\n",
       "      <th>3</th>\n",
       "      <td>502</td>\n",
       "      <td>0</td>\n",
       "      <td>0</td>\n",
       "      <td>42</td>\n",
       "      <td>8</td>\n",
       "      <td>159660.80</td>\n",
       "      <td>3</td>\n",
       "      <td>1</td>\n",
       "      <td>0</td>\n",
       "      <td>113931.57</td>\n",
       "    </tr>\n",
       "    <tr>\n",
       "      <th>4</th>\n",
       "      <td>699</td>\n",
       "      <td>0</td>\n",
       "      <td>0</td>\n",
       "      <td>39</td>\n",
       "      <td>1</td>\n",
       "      <td>0.00</td>\n",
       "      <td>2</td>\n",
       "      <td>0</td>\n",
       "      <td>0</td>\n",
       "      <td>93826.63</td>\n",
       "    </tr>\n",
       "    <tr>\n",
       "      <th>5</th>\n",
       "      <td>850</td>\n",
       "      <td>2</td>\n",
       "      <td>0</td>\n",
       "      <td>43</td>\n",
       "      <td>2</td>\n",
       "      <td>125510.82</td>\n",
       "      <td>1</td>\n",
       "      <td>1</td>\n",
       "      <td>1</td>\n",
       "      <td>79084.10</td>\n",
       "    </tr>\n",
       "  </tbody>\n",
       "</table>\n",
       "</div>"
      ],
      "text/plain": [
       "           CreditScore  Geography  Gender  Age  Tenure    Balance  \\\n",
       "RowNumber                                                           \n",
       "1                  619          0       0   42       2       0.00   \n",
       "2                  608          2       0   41       1   83807.86   \n",
       "3                  502          0       0   42       8  159660.80   \n",
       "4                  699          0       0   39       1       0.00   \n",
       "5                  850          2       0   43       2  125510.82   \n",
       "\n",
       "           NumOfProducts  HasCrCard  IsActiveMember  EstimatedSalary  \n",
       "RowNumber                                                             \n",
       "1                      1          1               1        101348.88  \n",
       "2                      1          0               1        112542.58  \n",
       "3                      3          1               0        113931.57  \n",
       "4                      2          0               0         93826.63  \n",
       "5                      1          1               1         79084.10  "
      ]
     },
     "execution_count": 14,
     "metadata": {},
     "output_type": "execute_result"
    }
   ],
   "source": [
    "#Splitting into test and train data\n",
    "x = churn_data_encoded.drop(['Exited'], axis=1)\n",
    "y = churn_data_encoded.Exited\n",
    "x.head()"
   ]
  },
  {
   "cell_type": "code",
   "execution_count": 15,
   "id": "18627642",
   "metadata": {
    "execution": {
     "iopub.execute_input": "2025-04-20T12:23:21.441129Z",
     "iopub.status.busy": "2025-04-20T12:23:21.440745Z",
     "iopub.status.idle": "2025-04-20T12:23:21.448644Z",
     "shell.execute_reply": "2025-04-20T12:23:21.447772Z"
    },
    "papermill": {
     "duration": 0.023285,
     "end_time": "2025-04-20T12:23:21.450376",
     "exception": false,
     "start_time": "2025-04-20T12:23:21.427091",
     "status": "completed"
    },
    "tags": []
   },
   "outputs": [
    {
     "data": {
      "text/plain": [
       "RowNumber\n",
       "1        1\n",
       "2        0\n",
       "3        1\n",
       "4        0\n",
       "5        0\n",
       "        ..\n",
       "9996     0\n",
       "9997     0\n",
       "9998     1\n",
       "9999     1\n",
       "10000    0\n",
       "Name: Exited, Length: 10000, dtype: int64"
      ]
     },
     "execution_count": 15,
     "metadata": {},
     "output_type": "execute_result"
    }
   ],
   "source": [
    "y"
   ]
  },
  {
   "cell_type": "code",
   "execution_count": 16,
   "id": "d432a816",
   "metadata": {
    "execution": {
     "iopub.execute_input": "2025-04-20T12:23:21.477906Z",
     "iopub.status.busy": "2025-04-20T12:23:21.477544Z",
     "iopub.status.idle": "2025-04-20T12:23:21.487112Z",
     "shell.execute_reply": "2025-04-20T12:23:21.485852Z"
    },
    "papermill": {
     "duration": 0.025297,
     "end_time": "2025-04-20T12:23:21.488655",
     "exception": false,
     "start_time": "2025-04-20T12:23:21.463358",
     "status": "completed"
    },
    "tags": []
   },
   "outputs": [],
   "source": [
    "x_train, x_test, y_train,y_test = train_test_split(x,y, test_size=0.2, random_state = 0)"
   ]
  },
  {
   "cell_type": "code",
   "execution_count": 17,
   "id": "766ef21a",
   "metadata": {
    "execution": {
     "iopub.execute_input": "2025-04-20T12:23:21.514302Z",
     "iopub.status.busy": "2025-04-20T12:23:21.513945Z",
     "iopub.status.idle": "2025-04-20T12:23:21.536584Z",
     "shell.execute_reply": "2025-04-20T12:23:21.535708Z"
    },
    "papermill": {
     "duration": 0.037354,
     "end_time": "2025-04-20T12:23:21.538238",
     "exception": false,
     "start_time": "2025-04-20T12:23:21.500884",
     "status": "completed"
    },
    "tags": []
   },
   "outputs": [],
   "source": [
    "# Feature scaling \n",
    "sc = StandardScaler()\n",
    "x_train = sc.fit_transform(x_train)\n",
    "x_test = sc.transform(x_test)"
   ]
  },
  {
   "cell_type": "code",
   "execution_count": 18,
   "id": "370b1504",
   "metadata": {
    "execution": {
     "iopub.execute_input": "2025-04-20T12:23:21.563653Z",
     "iopub.status.busy": "2025-04-20T12:23:21.563067Z",
     "iopub.status.idle": "2025-04-20T12:23:21.568414Z",
     "shell.execute_reply": "2025-04-20T12:23:21.567565Z"
    },
    "papermill": {
     "duration": 0.019308,
     "end_time": "2025-04-20T12:23:21.569691",
     "exception": false,
     "start_time": "2025-04-20T12:23:21.550383",
     "status": "completed"
    },
    "tags": []
   },
   "outputs": [
    {
     "data": {
      "text/plain": [
       "(8000, 10)"
      ]
     },
     "execution_count": 18,
     "metadata": {},
     "output_type": "execute_result"
    }
   ],
   "source": [
    "#ANN Model for Classification\n",
    "x_train.shape"
   ]
  },
  {
   "cell_type": "code",
   "execution_count": 19,
   "id": "17da277f",
   "metadata": {
    "execution": {
     "iopub.execute_input": "2025-04-20T12:23:21.595276Z",
     "iopub.status.busy": "2025-04-20T12:23:21.594471Z",
     "iopub.status.idle": "2025-04-20T12:23:21.690263Z",
     "shell.execute_reply": "2025-04-20T12:23:21.689358Z"
    },
    "papermill": {
     "duration": 0.110356,
     "end_time": "2025-04-20T12:23:21.691915",
     "exception": false,
     "start_time": "2025-04-20T12:23:21.581559",
     "status": "completed"
    },
    "tags": []
   },
   "outputs": [
    {
     "name": "stderr",
     "output_type": "stream",
     "text": [
      "/usr/local/lib/python3.11/dist-packages/keras/src/layers/core/dense.py:87: UserWarning: Do not pass an `input_shape`/`input_dim` argument to a layer. When using Sequential models, prefer using an `Input(shape)` object as the first layer in the model instead.\n",
      "  super().__init__(activity_regularizer=activity_regularizer, **kwargs)\n",
      "2025-04-20 12:23:21.606553: E external/local_xla/xla/stream_executor/cuda/cuda_driver.cc:152] failed call to cuInit: INTERNAL: CUDA error: Failed call to cuInit: UNKNOWN ERROR (303)\n"
     ]
    }
   ],
   "source": [
    "model = Sequential(\n",
    "[\n",
    "    # Adding the input layer and the first hidden layer\n",
    "    Dense(units=6, kernel_initializer='uniform', activation='relu', input_dim=10),\n",
    "    # Adding the second hidden layer\n",
    "    Dense(units=6, kernel_initializer='uniform', activation='relu'),\n",
    "    # Adding the output layer\n",
    "    Dense(units=1, kernel_initializer='uniform', activation='sigmoid'),\n",
    "]\n",
    ")\n",
    "\n",
    "# Compiling the ANN | means applying SGD on the whole ANN\n",
    "model.compile(optimizer= 'adam', loss='binary_crossentropy', metrics=['accuracy'])"
   ]
  },
  {
   "cell_type": "code",
   "execution_count": 20,
   "id": "9fbd8e8a",
   "metadata": {
    "execution": {
     "iopub.execute_input": "2025-04-20T12:23:21.717513Z",
     "iopub.status.busy": "2025-04-20T12:23:21.717151Z",
     "iopub.status.idle": "2025-04-20T12:24:50.710384Z",
     "shell.execute_reply": "2025-04-20T12:24:50.709453Z"
    },
    "papermill": {
     "duration": 89.019142,
     "end_time": "2025-04-20T12:24:50.723201",
     "exception": false,
     "start_time": "2025-04-20T12:23:21.704059",
     "status": "completed"
    },
    "tags": []
   },
   "outputs": [
    {
     "data": {
      "text/plain": [
       "{'accuracy': [0.7952499985694885,\n",
       "  0.7960000038146973,\n",
       "  0.7960000038146973,\n",
       "  0.8042500019073486,\n",
       "  0.8243749737739563,\n",
       "  0.8288750052452087,\n",
       "  0.8309999704360962,\n",
       "  0.8306249976158142,\n",
       "  0.8314999938011169,\n",
       "  0.8316249847412109,\n",
       "  0.8331249952316284,\n",
       "  0.8327500224113464,\n",
       "  0.8328750133514404,\n",
       "  0.8338750004768372,\n",
       "  0.8343750238418579,\n",
       "  0.8336250185966492,\n",
       "  0.8333749771118164,\n",
       "  0.8328750133514404,\n",
       "  0.8337500095367432,\n",
       "  0.8341249823570251,\n",
       "  0.8355000019073486,\n",
       "  0.8330000042915344,\n",
       "  0.8335000276565552,\n",
       "  0.8338750004768372,\n",
       "  0.8357499837875366,\n",
       "  0.8347499966621399,\n",
       "  0.8333749771118164,\n",
       "  0.8353750109672546,\n",
       "  0.8353750109672546,\n",
       "  0.8352500200271606,\n",
       "  0.8357499837875366,\n",
       "  0.8347499966621399,\n",
       "  0.8358749747276306,\n",
       "  0.8357499837875366,\n",
       "  0.8363749980926514,\n",
       "  0.8348749876022339,\n",
       "  0.8353750109672546,\n",
       "  0.8346250057220459,\n",
       "  0.8363749980926514,\n",
       "  0.8327500224113464,\n",
       "  0.8356249928474426,\n",
       "  0.8362500071525574,\n",
       "  0.8357499837875366,\n",
       "  0.8367499709129333,\n",
       "  0.8364999890327454,\n",
       "  0.8371250033378601,\n",
       "  0.8357499837875366,\n",
       "  0.8378750085830688,\n",
       "  0.8343750238418579,\n",
       "  0.8349999785423279,\n",
       "  0.8353750109672546,\n",
       "  0.8363749980926514,\n",
       "  0.8362500071525574,\n",
       "  0.8363749980926514,\n",
       "  0.8367499709129333,\n",
       "  0.8352500200271606,\n",
       "  0.8364999890327454,\n",
       "  0.8360000252723694,\n",
       "  0.8371250033378601,\n",
       "  0.8351250290870667,\n",
       "  0.8363749980926514,\n",
       "  0.8358749747276306,\n",
       "  0.8360000252723694,\n",
       "  0.8371250033378601,\n",
       "  0.8351250290870667,\n",
       "  0.8368750214576721,\n",
       "  0.8348749876022339,\n",
       "  0.8353750109672546,\n",
       "  0.8352500200271606,\n",
       "  0.8368750214576721,\n",
       "  0.8362500071525574,\n",
       "  0.8366249799728394,\n",
       "  0.8360000252723694,\n",
       "  0.8352500200271606,\n",
       "  0.8366249799728394,\n",
       "  0.8367499709129333,\n",
       "  0.8357499837875366,\n",
       "  0.8358749747276306,\n",
       "  0.8367499709129333,\n",
       "  0.8357499837875366,\n",
       "  0.8342499732971191,\n",
       "  0.8370000123977661,\n",
       "  0.8360000252723694,\n",
       "  0.8364999890327454,\n",
       "  0.8361250162124634,\n",
       "  0.8358749747276306,\n",
       "  0.8372499942779541,\n",
       "  0.8343750238418579,\n",
       "  0.8357499837875366,\n",
       "  0.8356249928474426,\n",
       "  0.8348749876022339,\n",
       "  0.8353750109672546,\n",
       "  0.8351250290870667,\n",
       "  0.8357499837875366,\n",
       "  0.8346250057220459,\n",
       "  0.8352500200271606,\n",
       "  0.8351250290870667,\n",
       "  0.8372499942779541,\n",
       "  0.8358749747276306,\n",
       "  0.8348749876022339],\n",
       " 'loss': [0.49726566672325134,\n",
       "  0.4327172338962555,\n",
       "  0.42779287695884705,\n",
       "  0.42384812235832214,\n",
       "  0.42075276374816895,\n",
       "  0.41863682866096497,\n",
       "  0.41681021451950073,\n",
       "  0.4154437184333801,\n",
       "  0.41405385732650757,\n",
       "  0.4129628539085388,\n",
       "  0.41169247031211853,\n",
       "  0.41076791286468506,\n",
       "  0.4103059768676758,\n",
       "  0.40978798270225525,\n",
       "  0.40864869952201843,\n",
       "  0.40781620144844055,\n",
       "  0.4073357582092285,\n",
       "  0.4062059819698334,\n",
       "  0.40601328015327454,\n",
       "  0.4053216576576233,\n",
       "  0.40462157130241394,\n",
       "  0.4046609699726105,\n",
       "  0.4040971100330353,\n",
       "  0.40405207872390747,\n",
       "  0.4033800959587097,\n",
       "  0.4031440019607544,\n",
       "  0.4023478329181671,\n",
       "  0.4028078615665436,\n",
       "  0.40225374698638916,\n",
       "  0.40225112438201904,\n",
       "  0.4017176032066345,\n",
       "  0.40167397260665894,\n",
       "  0.40157461166381836,\n",
       "  0.4011460542678833,\n",
       "  0.4013720452785492,\n",
       "  0.4008220434188843,\n",
       "  0.40069666504859924,\n",
       "  0.4006469249725342,\n",
       "  0.40076354146003723,\n",
       "  0.4003380835056305,\n",
       "  0.40030235052108765,\n",
       "  0.39960360527038574,\n",
       "  0.39972570538520813,\n",
       "  0.39945903420448303,\n",
       "  0.3993169367313385,\n",
       "  0.3990947902202606,\n",
       "  0.39868834614753723,\n",
       "  0.39812561869621277,\n",
       "  0.39876750111579895,\n",
       "  0.3980983793735504,\n",
       "  0.39830389618873596,\n",
       "  0.397877037525177,\n",
       "  0.39759597182273865,\n",
       "  0.3978576362133026,\n",
       "  0.39748090505599976,\n",
       "  0.39703235030174255,\n",
       "  0.3967718183994293,\n",
       "  0.3968338966369629,\n",
       "  0.3968615233898163,\n",
       "  0.3965643346309662,\n",
       "  0.3965827524662018,\n",
       "  0.3962613642215729,\n",
       "  0.39607909321784973,\n",
       "  0.3959799110889435,\n",
       "  0.39608705043792725,\n",
       "  0.39587706327438354,\n",
       "  0.3959830403327942,\n",
       "  0.3960018754005432,\n",
       "  0.39583414793014526,\n",
       "  0.3951469361782074,\n",
       "  0.3954417407512665,\n",
       "  0.39530566334724426,\n",
       "  0.39568832516670227,\n",
       "  0.39505189657211304,\n",
       "  0.39480355381965637,\n",
       "  0.39484238624572754,\n",
       "  0.39541009068489075,\n",
       "  0.39459607005119324,\n",
       "  0.39473968744277954,\n",
       "  0.3946608603000641,\n",
       "  0.3946225345134735,\n",
       "  0.3947637379169464,\n",
       "  0.39422714710235596,\n",
       "  0.3944302201271057,\n",
       "  0.3941733241081238,\n",
       "  0.3947327136993408,\n",
       "  0.3936987817287445,\n",
       "  0.39456674456596375,\n",
       "  0.39383482933044434,\n",
       "  0.39413022994995117,\n",
       "  0.3937287926673889,\n",
       "  0.3939410448074341,\n",
       "  0.3939415514469147,\n",
       "  0.3944132328033447,\n",
       "  0.393393337726593,\n",
       "  0.39401373267173767,\n",
       "  0.39349496364593506,\n",
       "  0.39417198300361633,\n",
       "  0.39365312457084656,\n",
       "  0.3931628465652466]}"
      ]
     },
     "execution_count": 20,
     "metadata": {},
     "output_type": "execute_result"
    }
   ],
   "source": [
    "# Fitting the ANN to the Training set\n",
    "history = model.fit(x_train, y_train, batch_size=10, epochs=100, verbose=0)\n",
    "history.history"
   ]
  },
  {
   "cell_type": "code",
   "execution_count": 21,
   "id": "91dec1da",
   "metadata": {
    "execution": {
     "iopub.execute_input": "2025-04-20T12:24:50.749384Z",
     "iopub.status.busy": "2025-04-20T12:24:50.749018Z",
     "iopub.status.idle": "2025-04-20T12:24:51.736838Z",
     "shell.execute_reply": "2025-04-20T12:24:51.735871Z"
    },
    "papermill": {
     "duration": 1.002724,
     "end_time": "2025-04-20T12:24:51.738395",
     "exception": false,
     "start_time": "2025-04-20T12:24:50.735671",
     "status": "completed"
    },
    "tags": []
   },
   "outputs": [
    {
     "name": "stdout",
     "output_type": "stream",
     "text": [
      "\u001b[1m800/800\u001b[0m \u001b[32m━━━━━━━━━━━━━━━━━━━━\u001b[0m\u001b[37m\u001b[0m \u001b[1m1s\u001b[0m 968us/step - accuracy: 0.8395 - loss: 0.3883\n",
      "Train score 0.3917640447616577\n",
      "Train accuracy 0.8346250057220459\n"
     ]
    }
   ],
   "source": [
    "#SCORE & METRICS\n",
    "score, acc = model.evaluate(x_train, y_train,batch_size=10)\n",
    "print('Train score', score)\n",
    "print('Train accuracy', acc)"
   ]
  },
  {
   "cell_type": "code",
   "execution_count": 22,
   "id": "8a2bb5b8",
   "metadata": {
    "execution": {
     "iopub.execute_input": "2025-04-20T12:24:51.769719Z",
     "iopub.status.busy": "2025-04-20T12:24:51.769410Z",
     "iopub.status.idle": "2025-04-20T12:24:52.047078Z",
     "shell.execute_reply": "2025-04-20T12:24:52.046294Z"
    },
    "papermill": {
     "duration": 0.295846,
     "end_time": "2025-04-20T12:24:52.048665",
     "exception": false,
     "start_time": "2025-04-20T12:24:51.752819",
     "status": "completed"
    },
    "tags": []
   },
   "outputs": [
    {
     "name": "stdout",
     "output_type": "stream",
     "text": [
      "\u001b[1m63/63\u001b[0m \u001b[32m━━━━━━━━━━━━━━━━━━━━\u001b[0m\u001b[37m\u001b[0m \u001b[1m0s\u001b[0m 2ms/step\n"
     ]
    }
   ],
   "source": [
    "y_pred = model.predict(x_test)\n",
    "y_pred = (y_pred > 0.5).astype(int)"
   ]
  },
  {
   "cell_type": "code",
   "execution_count": 23,
   "id": "f4575912",
   "metadata": {
    "execution": {
     "iopub.execute_input": "2025-04-20T12:24:52.076767Z",
     "iopub.status.busy": "2025-04-20T12:24:52.076464Z",
     "iopub.status.idle": "2025-04-20T12:24:52.082208Z",
     "shell.execute_reply": "2025-04-20T12:24:52.081466Z"
    },
    "papermill": {
     "duration": 0.021248,
     "end_time": "2025-04-20T12:24:52.083479",
     "exception": false,
     "start_time": "2025-04-20T12:24:52.062231",
     "status": "completed"
    },
    "tags": []
   },
   "outputs": [
    {
     "data": {
      "text/plain": [
       "array([[0],\n",
       "       [0],\n",
       "       [0],\n",
       "       ...,\n",
       "       [0],\n",
       "       [0],\n",
       "       [0]])"
      ]
     },
     "execution_count": 23,
     "metadata": {},
     "output_type": "execute_result"
    }
   ],
   "source": [
    "y_pred"
   ]
  },
  {
   "cell_type": "code",
   "execution_count": 24,
   "id": "83f35aec",
   "metadata": {
    "execution": {
     "iopub.execute_input": "2025-04-20T12:24:52.112134Z",
     "iopub.status.busy": "2025-04-20T12:24:52.111695Z",
     "iopub.status.idle": "2025-04-20T12:24:52.119985Z",
     "shell.execute_reply": "2025-04-20T12:24:52.119090Z"
    },
    "papermill": {
     "duration": 0.024069,
     "end_time": "2025-04-20T12:24:52.121416",
     "exception": false,
     "start_time": "2025-04-20T12:24:52.097347",
     "status": "completed"
    },
    "tags": []
   },
   "outputs": [
    {
     "data": {
      "text/plain": [
       "0.84"
      ]
     },
     "execution_count": 24,
     "metadata": {},
     "output_type": "execute_result"
    }
   ],
   "source": [
    "from sklearn.metrics import confusion_matrix,accuracy_score\n",
    "\n",
    "accuracy_score(y_test,y_pred)"
   ]
  },
  {
   "cell_type": "code",
   "execution_count": 25,
   "id": "94d9d25c",
   "metadata": {
    "execution": {
     "iopub.execute_input": "2025-04-20T12:24:52.216980Z",
     "iopub.status.busy": "2025-04-20T12:24:52.216625Z",
     "iopub.status.idle": "2025-04-20T12:24:52.422423Z",
     "shell.execute_reply": "2025-04-20T12:24:52.421502Z"
    },
    "papermill": {
     "duration": 0.221827,
     "end_time": "2025-04-20T12:24:52.424010",
     "exception": false,
     "start_time": "2025-04-20T12:24:52.202183",
     "status": "completed"
    },
    "tags": []
   },
   "outputs": [
    {
     "data": {
      "text/plain": [
       "Text(0.5, 23.52222222222222, 'Prediction label')"
      ]
     },
     "execution_count": 25,
     "metadata": {},
     "output_type": "execute_result"
    },
    {
     "data": {
      "image/png": "[encoded data removed]",
      "text/plain": [
       "<Figure size 640x480 with 2 Axes>"
      ]
     },
     "metadata": {},
     "output_type": "display_data"
    }
   ],
   "source": [
    "cm = confusion_matrix(y_test, y_pred)\n",
    "p = sns.heatmap(pd.DataFrame(cm), annot=True, cmap='YlGnBu', fmt='g')\n",
    "plt.title('Confusion matrix', y=1.1)\n",
    "plt.ylabel('Actual label')\n",
    "plt.xlabel('Prediction label')"
   ]
  },
  {
   "cell_type": "code",
   "execution_count": 26,
   "id": "037fbee6",
   "metadata": {
    "execution": {
     "iopub.execute_input": "2025-04-20T12:24:52.454815Z",
     "iopub.status.busy": "2025-04-20T12:24:52.454471Z",
     "iopub.status.idle": "2025-04-20T12:24:52.469649Z",
     "shell.execute_reply": "2025-04-20T12:24:52.468634Z"
    },
    "papermill": {
     "duration": 0.032075,
     "end_time": "2025-04-20T12:24:52.471319",
     "exception": false,
     "start_time": "2025-04-20T12:24:52.439244",
     "status": "completed"
    },
    "tags": []
   },
   "outputs": [
    {
     "name": "stdout",
     "output_type": "stream",
     "text": [
      "              precision    recall  f1-score   support\n",
      "\n",
      "           0       0.85      0.97      0.91      1595\n",
      "           1       0.72      0.34      0.46       405\n",
      "\n",
      "    accuracy                           0.84      2000\n",
      "   macro avg       0.79      0.65      0.68      2000\n",
      "weighted avg       0.83      0.84      0.82      2000\n",
      "\n"
     ]
    }
   ],
   "source": [
    "#classification_report\n",
    "from sklearn.metrics import classification_report\n",
    "print(classification_report(y_test,y_pred))"
   ]
  },
  {
   "cell_type": "code",
   "execution_count": 27,
   "id": "d22378df",
   "metadata": {
    "execution": {
     "iopub.execute_input": "2025-04-20T12:24:52.501177Z",
     "iopub.status.busy": "2025-04-20T12:24:52.500858Z",
     "iopub.status.idle": "2025-04-20T12:24:52.823095Z",
     "shell.execute_reply": "2025-04-20T12:24:52.822124Z"
    },
    "papermill": {
     "duration": 0.339192,
     "end_time": "2025-04-20T12:24:52.824756",
     "exception": false,
     "start_time": "2025-04-20T12:24:52.485564",
     "status": "completed"
    },
    "tags": []
   },
   "outputs": [
    {
     "name": "stdout",
     "output_type": "stream",
     "text": [
      "\u001b[1m63/63\u001b[0m \u001b[32m━━━━━━━━━━━━━━━━━━━━\u001b[0m\u001b[37m\u001b[0m \u001b[1m0s\u001b[0m 1ms/step\n"
     ]
    },
    {
     "data": {
      "image/png": "[encoded data removed]",
      "text/plain": [
       "<Figure size 640x480 with 1 Axes>"
      ]
     },
     "metadata": {},
     "output_type": "display_data"
    }
   ],
   "source": [
    "from sklearn.metrics import roc_curve\n",
    "\n",
    "# Predict probabilities using the model\n",
    "y_pred_proba = model.predict(x_test)\n",
    "\n",
    "# Assuming y_test is binary (0 and 1)\n",
    "fpr, tpr, thresholds = roc_curve(y_test, y_pred_proba)\n",
    "plt.plot([0,1],[0,1],'k--')\n",
    "plt.plot(fpr,tpr, label='ANN')\n",
    "plt.xlabel('fpr')\n",
    "plt.ylabel('tpr')\n",
    "plt.title('ROC curve')\n",
    "plt.show()"
   ]
  },
  {
   "cell_type": "code",
   "execution_count": 28,
   "id": "b1ef1e5b",
   "metadata": {
    "execution": {
     "iopub.execute_input": "2025-04-20T12:24:52.855760Z",
     "iopub.status.busy": "2025-04-20T12:24:52.855454Z",
     "iopub.status.idle": "2025-04-20T12:24:52.935092Z",
     "shell.execute_reply": "2025-04-20T12:24:52.934272Z"
    },
    "papermill": {
     "duration": 0.096845,
     "end_time": "2025-04-20T12:24:52.936489",
     "exception": false,
     "start_time": "2025-04-20T12:24:52.839644",
     "status": "completed"
    },
    "tags": []
   },
   "outputs": [
    {
     "name": "stdout",
     "output_type": "stream",
     "text": [
      "\u001b[1m1/1\u001b[0m \u001b[32m━━━━━━━━━━━━━━━━━━━━\u001b[0m\u001b[37m\u001b[0m \u001b[1m0s\u001b[0m 19ms/step\n"
     ]
    },
    {
     "data": {
      "text/plain": [
       "array([[1]])"
      ]
     },
     "execution_count": 28,
     "metadata": {},
     "output_type": "execute_result"
    }
   ],
   "source": [
    "#Predictive System\n",
    "x_test_reshaped = x_test[5].reshape(1, -1)\n",
    "result = model.predict(x_test_reshaped)\n",
    "(result > 0.5).astype(int)"
   ]
  },
  {
   "cell_type": "code",
   "execution_count": 29,
   "id": "c26efe4f",
   "metadata": {
    "execution": {
     "iopub.execute_input": "2025-04-20T12:24:52.968308Z",
     "iopub.status.busy": "2025-04-20T12:24:52.968017Z",
     "iopub.status.idle": "2025-04-20T12:24:52.973849Z",
     "shell.execute_reply": "2025-04-20T12:24:52.973234Z"
    },
    "papermill": {
     "duration": 0.023441,
     "end_time": "2025-04-20T12:24:52.975196",
     "exception": false,
     "start_time": "2025-04-20T12:24:52.951755",
     "status": "completed"
    },
    "tags": []
   },
   "outputs": [
    {
     "data": {
      "text/plain": [
       "1"
      ]
     },
     "execution_count": 29,
     "metadata": {},
     "output_type": "execute_result"
    }
   ],
   "source": [
    "y_test.iloc[5]"
   ]
  },
  {
   "cell_type": "code",
   "execution_count": 30,
   "id": "2402eeaa",
   "metadata": {
    "execution": {
     "iopub.execute_input": "2025-04-20T12:24:53.007900Z",
     "iopub.status.busy": "2025-04-20T12:24:53.006939Z",
     "iopub.status.idle": "2025-04-20T12:24:53.013548Z",
     "shell.execute_reply": "2025-04-20T12:24:53.012476Z"
    },
    "papermill": {
     "duration": 0.024397,
     "end_time": "2025-04-20T12:24:53.015091",
     "exception": false,
     "start_time": "2025-04-20T12:24:52.990694",
     "status": "completed"
    },
    "tags": []
   },
   "outputs": [],
   "source": [
    "import pandas as pd\n",
    "import numpy as np\n",
    "\n",
    "def pred(CreditScore, Geography, Gender, Age, Tenure, Balance, NumOfProducts, HasCrCard, IsActiveMember, EstimatedSalary):\n",
    "    features = np.array([CreditScore, Geography, Gender, Age, Tenure, Balance, NumOfProducts, HasCrCard, IsActiveMember, EstimatedSalary])\n",
    "    features = features.reshape(1, -1)  # Reshape to (1, input_dim)\n",
    "    result = model.predict(features)\n",
    "    result = (result > 0.5).astype(int)\n",
    "    return result"
   ]
  },
  {
   "cell_type": "code",
   "execution_count": 31,
   "id": "9ef700d4",
   "metadata": {
    "execution": {
     "iopub.execute_input": "2025-04-20T12:24:53.047400Z",
     "iopub.status.busy": "2025-04-20T12:24:53.047065Z",
     "iopub.status.idle": "2025-04-20T12:24:53.126054Z",
     "shell.execute_reply": "2025-04-20T12:24:53.124952Z"
    },
    "papermill": {
     "duration": 0.09676,
     "end_time": "2025-04-20T12:24:53.127405",
     "exception": false,
     "start_time": "2025-04-20T12:24:53.030645",
     "status": "completed"
    },
    "tags": []
   },
   "outputs": [
    {
     "name": "stdout",
     "output_type": "stream",
     "text": [
      "\u001b[1m1/1\u001b[0m \u001b[32m━━━━━━━━━━━━━━━━━━━━\u001b[0m\u001b[37m\u001b[0m \u001b[1m0s\u001b[0m 19ms/step\n",
      "[[0]]\n"
     ]
    }
   ],
   "source": [
    "# Example usage:\n",
    "CreditScore = 619\n",
    "Geography = 0\n",
    "Gender = 0\n",
    "Age = 42\n",
    "Tenure = 2\n",
    "Balance = 0.0\n",
    "NumOfProducts = 1\n",
    "HasCrCard = 1\n",
    "IsActiveMember = 1\n",
    "EstimatedSalary = 101348.88\n",
    "\n",
    "result = pred(CreditScore, Geography, Gender, Age, Tenure, Balance, NumOfProducts, HasCrCard, IsActiveMember, EstimatedSalary)\n",
    "print(result)"
   ]
  },
  {
   "cell_type": "code",
   "execution_count": 32,
   "id": "3caad661",
   "metadata": {
    "execution": {
     "iopub.execute_input": "2025-04-20T12:24:53.160381Z",
     "iopub.status.busy": "2025-04-20T12:24:53.159440Z",
     "iopub.status.idle": "2025-04-20T12:24:53.164642Z",
     "shell.execute_reply": "2025-04-20T12:24:53.163914Z"
    },
    "papermill": {
     "duration": 0.022961,
     "end_time": "2025-04-20T12:24:53.166004",
     "exception": false,
     "start_time": "2025-04-20T12:24:53.143043",
     "status": "completed"
    },
    "tags": []
   },
   "outputs": [
    {
     "name": "stdout",
     "output_type": "stream",
     "text": [
      "Not Churn\n"
     ]
    }
   ],
   "source": [
    "if result == 1:\n",
    "    print(\"Churn\")\n",
    "else:\n",
    "    print(\"Not Churn\")"
   ]
  },
  {
   "cell_type": "code",
   "execution_count": 33,
   "id": "969bf1ae",
   "metadata": {
    "execution": {
     "iopub.execute_input": "2025-04-20T12:24:53.198134Z",
     "iopub.status.busy": "2025-04-20T12:24:53.197769Z",
     "iopub.status.idle": "2025-04-20T12:24:53.205370Z",
     "shell.execute_reply": "2025-04-20T12:24:53.204284Z"
    },
    "papermill": {
     "duration": 0.025554,
     "end_time": "2025-04-20T12:24:53.206936",
     "exception": false,
     "start_time": "2025-04-20T12:24:53.181382",
     "status": "completed"
    },
    "tags": []
   },
   "outputs": [
    {
     "data": {
      "text/plain": [
       "CreditScore           619.00\n",
       "Geography               0.00\n",
       "Gender                  0.00\n",
       "Age                    42.00\n",
       "Tenure                  2.00\n",
       "Balance                 0.00\n",
       "NumOfProducts           1.00\n",
       "HasCrCard               1.00\n",
       "IsActiveMember          1.00\n",
       "EstimatedSalary    101348.88\n",
       "Exited                  1.00\n",
       "Name: 1, dtype: float64"
      ]
     },
     "execution_count": 33,
     "metadata": {},
     "output_type": "execute_result"
    }
   ],
   "source": [
    "churn_data.iloc[0]"
   ]
  },
  {
   "cell_type": "code",
   "execution_count": 34,
   "id": "ad5ae3bc",
   "metadata": {
    "execution": {
     "iopub.execute_input": "2025-04-20T12:24:53.239238Z",
     "iopub.status.busy": "2025-04-20T12:24:53.238887Z",
     "iopub.status.idle": "2025-04-20T12:24:53.273298Z",
     "shell.execute_reply": "2025-04-20T12:24:53.272006Z"
    },
    "papermill": {
     "duration": 0.052866,
     "end_time": "2025-04-20T12:24:53.275140",
     "exception": false,
     "start_time": "2025-04-20T12:24:53.222274",
     "status": "completed"
    },
    "tags": []
   },
   "outputs": [],
   "source": [
    "model.save('model.h5')"
   ]
  }
 ],
 "metadata": {
  "kaggle": {
   "accelerator": "none",
   "dataSources": [
    {
     "datasetId": 3614821,
     "sourceId": 6286123,
     "sourceType": "datasetVersion"
    }
   ],
   "dockerImageVersionId": 31012,
   "isGpuEnabled": false,
   "isInternetEnabled": true,
   "language": "python",
   "sourceType": "notebook"
  },
  "kernelspec": {
   "display_name": "Python 3",
   "language": "python",
   "name": "python3"
  },
  "language_info": {
   "codemirror_mode": {
    "name": "ipython",
    "version": 3
   },
   "file_extension": ".py",
   "mimetype": "text/x-python",
   "name": "python",
   "nbconvert_exporter": "python",
   "pygments_lexer": "ipython3",
   "version": "3.11.11"
  },
  "papermill": {
   "default_parameters": {},
   "duration": 123.167013,
   "end_time": "2025-04-20T12:24:56.373694",
   "environment_variables": {},
   "exception": null,
   "input_path": "__notebook__.ipynb",
   "output_path": "__notebook__.ipynb",
   "parameters": {},
   "start_time": "2025-04-20T12:22:53.206681",
   "version": "2.6.0"
  }
 },
 "nbformat": 4,
 "nbformat_minor": 5
}
